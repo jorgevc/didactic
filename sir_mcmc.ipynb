{
 "cells": [
  {
   "cell_type": "markdown",
   "metadata": {},
   "source": [
    "Importamos las librerías necesarias"
   ]
  },
  {
   "cell_type": "code",
   "execution_count": 52,
   "metadata": {
    "collapsed": true
   },
   "outputs": [],
   "source": [
    "import numpy as np\n",
    "from scipy.integrate import odeint\n",
    "import sir_mcmc_utils as utils\n",
    "import pandas\n",
    "import matplotlib.pyplot as plt"
   ]
  },
  {
   "cell_type": "markdown",
   "metadata": {},
   "source": [
    "Leemos los datos del archivo 'data.dat' empleando pandas"
   ]
  },
  {
   "cell_type": "code",
   "execution_count": 53,
   "metadata": {
    "collapsed": false
   },
   "outputs": [
    {
     "name": "stdout",
     "output_type": "stream",
     "text": [
      "    dia  Infectados\n",
      "0     0           1\n",
      "1    11           6\n",
      "2    21          32\n",
      "3    32         207\n",
      "4    42        1068\n",
      "5    53        6391\n",
      "6    63       36125\n",
      "7    74      179693\n",
      "8    84      538146\n",
      "9    95      555013\n",
      "10  105      241360\n",
      "11  116       74364\n",
      "12  126       20874\n",
      "13  137        5723\n",
      "14  147        1533\n",
      "15  158         391\n",
      "16  168         122\n",
      "17  179          35\n",
      "18  189          11\n",
      "19  200           2\n"
     ]
    }
   ],
   "source": [
    "# lectura de datos\n",
    "df = pandas.read_csv('data.dat') #Lee los datos del archivo\n",
    "print(df)\n",
    "\n",
    "days = df['dia'].values\n",
    "infected = df['Infectados']"
   ]
  },
  {
   "cell_type": "markdown",
   "metadata": {},
   "source": [
    "Asignamos parámetros de la simulación Monte Carlo"
   ]
  },
  {
   "cell_type": "code",
   "execution_count": 117,
   "metadata": {
    "collapsed": true
   },
   "outputs": [],
   "source": [
    "#sigma_gamma = 0.0001;\n",
    "#sigma_beta = 0.0001\n",
    "#gamma = 0.333\n",
    "#beta = 0.499\n",
    "sigma_gamma = 0.01;\n",
    "sigma_beta = 0.01\n",
    "gamma = 0.5\n",
    "beta = 0.5\n",
    "\n",
    "like=0.0000000001\n",
    "loglike=np.log(like)\n",
    "Number_of_steeps = 10000\n",
    "Burn_in_Time = 1000\n",
    "mcmc_file_name = \"mcmc.dat\""
   ]
  },
  {
   "cell_type": "markdown",
   "metadata": {
    "collapsed": true
   },
   "source": [
    "Corremos la simulación Monte Carlo\n"
   ]
  },
  {
   "cell_type": "code",
   "execution_count": 118,
   "metadata": {
    "collapsed": false
   },
   "outputs": [],
   "source": [
    "file_h = open(mcmc_file_name,\"w+\",buffering=1)\n",
    "file_h.write('gamma,beta,log_likelihood\\n')\n",
    "\n",
    "for i in range(Number_of_steeps):\n",
    "\t#verificar que sea positivo\n",
    "\tgamma_try = np.random.normal(gamma, sigma_gamma)\n",
    "\twhile (gamma_try < 0.0):\n",
    "\t\tgamma_try = np.random.normal(gamma, sigma_gamma)\n",
    "\tbeta_try = np.random.normal(beta, sigma_beta)\n",
    "\twhile (beta_try < 0.0):\n",
    "\t\tbeta_try = np.random.normal(beta, sigma_beta)\n",
    "\t\t\n",
    "\t#definir el modelo con los parametros elegidos\n",
    "\tdef model(y,t):\n",
    "\t\treturn utils.SIR(y,t,gamma_try,beta_try)\n",
    "\t\t\n",
    "\t#resolver el modelo\n",
    "\tN0=10000000.0\n",
    "\ty0 = np.array([N0-1.,1.,0.])\n",
    "\tmodel_prediction = odeint(model, y0, days)\n",
    "\t\n",
    "\t#calcular likelihood\n",
    "\tloglike_try = utils.PoissonLikelihood(infected,model_prediction[:,1])\n",
    "\t\n",
    "\t#calcular numero aleatorio para comparar con la division de la anterior\n",
    "\tif (loglike_try < loglike):\n",
    "\t\trandom = np.random.uniform(0.0,1.0)\n",
    "\t\taccepted = 0\n",
    "\telse:\n",
    "\t\taccepted = 1\n",
    "\t\t\n",
    "\tif (accepted == 1 or ( random < np.exp(loglike_try - loglike))):\n",
    "\t\tgamma = gamma_try\n",
    "\t\tbeta = beta_try\n",
    "\t\tloglike = loglike_try\n",
    "\n",
    "\tif(i>Burn_in_Time):\n",
    "\t\tline = '{} , {} , {} \\n'.format(gamma,beta,loglike)\n",
    "\t\tfile_h.write(line)\n",
    "\n",
    "\n",
    "file_h.close()"
   ]
  },
  {
   "cell_type": "markdown",
   "metadata": {},
   "source": [
    "Leemos la Cadena Monte Carlo generada y elegimos los parámetros del modelo con mayor verosimilitud"
   ]
  },
  {
   "cell_type": "code",
   "execution_count": 119,
   "metadata": {
    "collapsed": false
   },
   "outputs": [
    {
     "data": {
      "text/html": [
       "<div>\n",
       "<table border=\"1\" class=\"dataframe\">\n",
       "  <thead>\n",
       "    <tr style=\"text-align: right;\">\n",
       "      <th></th>\n",
       "      <th>gamma</th>\n",
       "      <th>beta</th>\n",
       "      <th>log_likelihood</th>\n",
       "    </tr>\n",
       "  </thead>\n",
       "  <tbody>\n",
       "    <tr>\n",
       "      <th>0</th>\n",
       "      <td>0.335986</td>\n",
       "      <td>0.5027</td>\n",
       "      <td>1.949550e+07</td>\n",
       "    </tr>\n",
       "    <tr>\n",
       "      <th>1</th>\n",
       "      <td>0.335986</td>\n",
       "      <td>0.5027</td>\n",
       "      <td>1.949550e+07</td>\n",
       "    </tr>\n",
       "    <tr>\n",
       "      <th>2</th>\n",
       "      <td>0.335986</td>\n",
       "      <td>0.5027</td>\n",
       "      <td>1.949550e+07</td>\n",
       "    </tr>\n",
       "    <tr>\n",
       "      <th>3</th>\n",
       "      <td>0.335986</td>\n",
       "      <td>0.5027</td>\n",
       "      <td>1.949550e+07</td>\n",
       "    </tr>\n",
       "    <tr>\n",
       "      <th>4</th>\n",
       "      <td>0.335986</td>\n",
       "      <td>0.5027</td>\n",
       "      <td>1.949550e+07</td>\n",
       "    </tr>\n",
       "  </tbody>\n",
       "</table>\n",
       "</div>"
      ],
      "text/plain": [
       "      gamma    beta  log_likelihood\n",
       "0  0.335986  0.5027    1.949550e+07\n",
       "1  0.335986  0.5027    1.949550e+07\n",
       "2  0.335986  0.5027    1.949550e+07\n",
       "3  0.335986  0.5027    1.949550e+07\n",
       "4  0.335986  0.5027    1.949550e+07"
      ]
     },
     "execution_count": 119,
     "metadata": {},
     "output_type": "execute_result"
    }
   ],
   "source": [
    "MCMC = pandas.read_csv(mcmc_file_name)\n",
    "MCMC.head()"
   ]
  },
  {
   "cell_type": "code",
   "execution_count": 120,
   "metadata": {
    "collapsed": false
   },
   "outputs": [
    {
     "data": {
      "image/png": "[encoded data removed]",
      "text/plain": [
       "<matplotlib.figure.Figure at 0xc5f8518>"
      ]
     },
     "metadata": {},
     "output_type": "display_data"
    }
   ],
   "source": [
    "\n",
    "\n",
    "plt.scatter(x=MCMC.gamma,y=MCMC.beta,c=MCMC.log_likelihood,s=1)\n",
    "plt.xlabel(r'$\\gamma$')\n",
    "plt.ylabel(r'$\\beta$')\n",
    "plt.colorbar()\n",
    "#plt.xlim([0.3328,0.3336])\n",
    "#plt.ylim([0.4994,0.50025])\n",
    "plt.show()\n"
   ]
  },
  {
   "cell_type": "code",
   "execution_count": 121,
   "metadata": {
    "collapsed": false
   },
   "outputs": [
    {
     "name": "stdout",
     "output_type": "stream",
     "text": [
      "(9, 3)\n",
      "0.333137652329\n",
      "0.499874819744\n"
     ]
    },
    {
     "data": {
      "text/html": [
       "<div>\n",
       "<table border=\"1\" class=\"dataframe\">\n",
       "  <thead>\n",
       "    <tr style=\"text-align: right;\">\n",
       "      <th></th>\n",
       "      <th>gamma</th>\n",
       "      <th>beta</th>\n",
       "      <th>log_likelihood</th>\n",
       "    </tr>\n",
       "  </thead>\n",
       "  <tbody>\n",
       "    <tr>\n",
       "      <th>0.05</th>\n",
       "      <td>0.331620</td>\n",
       "      <td>0.498356</td>\n",
       "      <td>1.949554e+07</td>\n",
       "    </tr>\n",
       "    <tr>\n",
       "      <th>0.95</th>\n",
       "      <td>0.334365</td>\n",
       "      <td>0.500787</td>\n",
       "      <td>1.949571e+07</td>\n",
       "    </tr>\n",
       "  </tbody>\n",
       "</table>\n",
       "</div>"
      ],
      "text/plain": [
       "         gamma      beta  log_likelihood\n",
       "0.05  0.331620  0.498356    1.949554e+07\n",
       "0.95  0.334365  0.500787    1.949571e+07"
      ]
     },
     "execution_count": 121,
     "metadata": {},
     "output_type": "execute_result"
    }
   ],
   "source": [
    "df = MCMC.drop_duplicates()\n",
    "print(df.shape)\n",
    "max_like = df['log_likelihood'].max()\n",
    "\n",
    "best_parameters = df[df['log_likelihood']==max_like]\n",
    "gamma_best = best_parameters['gamma'].values[0]\n",
    "beta_best = best_parameters['beta'].values[0]\n",
    "print(gamma_best)\n",
    "print(beta_best)\n",
    "MCMC.quantile([0.05,0.95])"
   ]
  },
  {
   "cell_type": "markdown",
   "metadata": {},
   "source": [
    "Corremos el modelo con los parámetros encontrados y comparamos con los datos"
   ]
  },
  {
   "cell_type": "code",
   "execution_count": 12,
   "metadata": {
    "collapsed": false
   },
   "outputs": [
    {
     "data": {
      "image/png": "[encoded data removed]",
      "text/plain": [
       "<matplotlib.figure.Figure at 0xb501978>"
      ]
     },
     "metadata": {},
     "output_type": "display_data"
    }
   ],
   "source": [
    "N0=10000000.0\n",
    "y0 = np.array([N0-1.,1.,0.])\n",
    "def model(y,t):\n",
    "\t\treturn utils.SIR(y,t,gamma_best,beta_best)\n",
    "\n",
    "time = np.linspace(0.0,200.0,200)\n",
    "y = odeint(model,y0,time)\n",
    "Model_Infected= y[:,1]\n",
    "plt.plot(time,Model_Infected)\n",
    "\n",
    "plt.scatter(days,infected)\n",
    "plt.show()"
   ]
  },
  {
   "cell_type": "code",
   "execution_count": null,
   "metadata": {
    "collapsed": true
   },
   "outputs": [],
   "source": []
  }
 ],
 "metadata": {
  "kernelspec": {
   "display_name": "Python 2",
   "language": "python",
   "name": "python2"
  },
  "language_info": {
   "codemirror_mode": {
    "name": "ipython",
    "version": 2
   },
   "file_extension": ".py",
   "mimetype": "text/x-python",
   "name": "python",
   "nbconvert_exporter": "python",
   "pygments_lexer": "ipython2",
   "version": "2.7.13"
  }
 },
 "nbformat": 4,
 "nbformat_minor": 2
}
